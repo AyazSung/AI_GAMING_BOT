{
 "cells": [
  {
   "cell_type": "markdown",
   "metadata": {},
   "source": [
    "## Task 3: Game bot (50%)\n",
    "Choose one of the games in OpenAI gym and make a bot that play it using GA.\n",
    "\n",
    "Beside the code, add a link to a video of your bot playing.\n",
    "##### Hint: There are many ways to do this, one of which is making a simple ANN and instead of using gradient decent use GA mutation and cross over to update your network."
   ]
  },
  {
   "cell_type": "code",
   "execution_count": 1,
   "metadata": {},
   "outputs": [],
   "source": [
    "import random\n",
    "import time\n",
    "from typing import List\n",
    "\n",
    "#making bot for Open AI gym game using ANN and GA to update the weights of network\n",
    "import gym as gym\n",
    "import numpy as np\n",
    "import tensorflow as tf\n",
    "\n",
    "from gym import Env\n",
    "from gym.spaces import Discrete, Box\n",
    "import cv2\n",
    "import matplotlib.pyplot as plt"
   ]
  },
  {
   "cell_type": "code",
   "execution_count": 2,
   "outputs": [],
   "source": [
    "#!pip install gym[atari]\n",
    "#!pip install gym[accept-rom-license]"
   ],
   "metadata": {
    "collapsed": false
   }
  },
  {
   "cell_type": "code",
   "execution_count": 3,
   "outputs": [
    {
     "name": "stderr",
     "output_type": "stream",
     "text": [
      "C:\\Users\\SunagatullinAyaz\\anaconda3\\lib\\site-packages\\gym\\utils\\passive_env_checker.py:31: UserWarning: \u001B[33mWARN: A Box observation space has an unconventional shape (neither an image, nor a 1D vector). We recommend flattening the observation to have only a 1D vector or use a custom policy to properly process the data. Actual observation shape: (250, 160)\u001B[0m\n",
      "  logger.warn(\n"
     ]
    }
   ],
   "source": [
    "env = gym.make('ALE/AirRaid-v5', render_mode='human', obs_type=\"grayscale\")"
   ],
   "metadata": {
    "collapsed": false
   }
  },
  {
   "cell_type": "code",
   "execution_count": 4,
   "outputs": [],
   "source": [
    "#pip uninstall gym atari-py ale-py\n",
    "#pip install gym[atari]"
   ],
   "metadata": {
    "collapsed": false
   }
  },
  {
   "cell_type": "code",
   "execution_count": 5,
   "outputs": [],
   "source": [
    "# CNN model for deciding what action to take according to observation\n",
    "# output = 0 -> noop\n",
    "# output = 1 -> fire\n",
    "# output = 2 -> right\n",
    "# output = 3 -> left\n",
    "# output = 4 -> rightfire\n",
    "# output = 5 -> leftfire\n",
    "\n",
    "model = tf.keras.models.Sequential([\n",
    "    tf.keras.layers.Conv2D(8, (3, 3), activation='relu'),\n",
    "    tf.keras.layers.MaxPool2D((2, 2)),\n",
    "    tf.keras.layers.Conv2D(16, (3, 3), activation='relu'),\n",
    "    tf.keras.layers.MaxPool2D((2, 2)),\n",
    "    tf.keras.layers.Conv2D(16, (3, 3), activation='relu'),\n",
    "    tf.keras.layers.Flatten(),\n",
    "    tf.keras.layers.Dense(12, activation='relu'),\n",
    "    tf.keras.layers.Dense(6, activation='softmax')\n",
    "])\n"
   ],
   "metadata": {
    "collapsed": false
   }
  },
  {
   "cell_type": "code",
   "execution_count": 6,
   "outputs": [],
   "source": [
    "model.compile(optimizer='adam', loss='binary_crossentropy', metrics=['accuracy'])"
   ],
   "metadata": {
    "collapsed": false
   }
  },
  {
   "cell_type": "code",
   "execution_count": 7,
   "outputs": [],
   "source": [
    "model.build(input_shape=(None, 250, 160, 1))"
   ],
   "metadata": {
    "collapsed": false
   }
  },
  {
   "cell_type": "code",
   "execution_count": 8,
   "outputs": [],
   "source": [
    "model.build()"
   ],
   "metadata": {
    "collapsed": false
   }
  },
  {
   "cell_type": "code",
   "execution_count": 9,
   "outputs": [
    {
     "name": "stdout",
     "output_type": "stream",
     "text": [
      "Model: \"sequential\"\n",
      "_________________________________________________________________\n",
      " Layer (type)                Output Shape              Param #   \n",
      "=================================================================\n",
      " conv2d (Conv2D)             (None, 248, 158, 8)       80        \n",
      "                                                                 \n",
      " max_pooling2d (MaxPooling2D  (None, 124, 79, 8)       0         \n",
      " )                                                               \n",
      "                                                                 \n",
      " conv2d_1 (Conv2D)           (None, 122, 77, 16)       1168      \n",
      "                                                                 \n",
      " max_pooling2d_1 (MaxPooling  (None, 61, 38, 16)       0         \n",
      " 2D)                                                             \n",
      "                                                                 \n",
      " conv2d_2 (Conv2D)           (None, 59, 36, 16)        2320      \n",
      "                                                                 \n",
      " flatten (Flatten)           (None, 33984)             0         \n",
      "                                                                 \n",
      " dense (Dense)               (None, 12)                407820    \n",
      "                                                                 \n",
      " dense_1 (Dense)             (None, 6)                 78        \n",
      "                                                                 \n",
      "=================================================================\n",
      "Total params: 411,466\n",
      "Trainable params: 411,466\n",
      "Non-trainable params: 0\n",
      "_________________________________________________________________\n"
     ]
    }
   ],
   "source": [
    "number_of_weights = model.count_params()\n",
    "model.summary()"
   ],
   "metadata": {
    "collapsed": false
   }
  },
  {
   "cell_type": "code",
   "execution_count": 10,
   "outputs": [],
   "source": [
    "#.layers[1].get_weights()[0].shape, model.layers[1].get_weights()[1].shape"
   ],
   "metadata": {
    "collapsed": false
   }
  },
  {
   "cell_type": "code",
   "execution_count": 11,
   "outputs": [
    {
     "data": {
      "text/plain": "((12, 6), (6,))"
     },
     "execution_count": 11,
     "metadata": {},
     "output_type": "execute_result"
    }
   ],
   "source": [
    "model.layers[7].get_weights()[0].shape, model.layers[7].get_weights()[1].shape"
   ],
   "metadata": {
    "collapsed": false
   }
  },
  {
   "cell_type": "code",
   "execution_count": 12,
   "outputs": [],
   "source": [
    "# # these weights are found by GA (code below)\n",
    "# best_weights = [0.1823618174305801,\n",
    "#                 0.7713836499876504,\n",
    "#                 0.6511879077319767,\n",
    "#                 0.8187707680405115,\n",
    "#                 0.29137521060185034]\n",
    "#\n",
    "# # play with the best weights, our goal is 500 steps.\n",
    "# env = gym.make('CartPole-v1', render_mode='human')\n",
    "# first_layer_weights = np.array(best_weights[:4]).reshape(4, 1)\n",
    "# first_layer_bias = np.array(best_weights[4:5])\n",
    "# model.layers[0].set_weights([first_layer_weights, first_layer_bias])\n",
    "# observation = env.reset()[0]\n",
    "# done = False\n",
    "# action_count = 0\n",
    "# total_reward = 0\n",
    "# while not done and action_count < 500:\n",
    "#     action = model.predict(np.array([observation]), verbose=0)[0][0]\n",
    "#     action = round(action)\n",
    "#     #print('action  ', action)\n",
    "#     observation, reward, truncated, terminated, info = env.step(action)\n",
    "#     action_count += 1\n",
    "#     done = terminated or truncated\n",
    "#     total_reward += reward\n",
    "#     #time.sleep(0.1)\n",
    "#     env.render()\n",
    "#\n",
    "# print(f\"Total reward: {total_reward}\")\n",
    "# env.close()"
   ],
   "metadata": {
    "collapsed": false
   }
  },
  {
   "cell_type": "markdown",
   "source": [
    "# LEARNING PROCESS"
   ],
   "metadata": {
    "collapsed": false
   }
  },
  {
   "cell_type": "code",
   "execution_count": 13,
   "outputs": [],
   "source": [
    "#range of values for weights\n",
    "# Initial range was [-1, 1].\n",
    "# After some testing and learning the problem,\n",
    "# I found that [0, 1] is better range, just to make learning faster.\n",
    "LOW = -1\n",
    "UP = 1"
   ],
   "metadata": {
    "collapsed": false
   }
  },
  {
   "cell_type": "code",
   "execution_count": 14,
   "outputs": [],
   "source": [
    "import numpy.polynomial.polynomial as poly\n",
    "\n",
    "def create_weight() -> float:\n",
    "    return random.uniform(LOW, UP)"
   ],
   "metadata": {
    "collapsed": false
   }
  },
  {
   "cell_type": "code",
   "execution_count": 15,
   "outputs": [],
   "source": [
    "def create_individual() -> List[float]:\n",
    "    return [create_weight() for _ in range(number_of_weights)]\n",
    "\n",
    "def create_population() -> List[List[float]]:\n",
    "    return [create_individual() for _ in range(population_size)]"
   ],
   "metadata": {
    "collapsed": false
   }
  },
  {
   "cell_type": "code",
   "execution_count": 16,
   "outputs": [],
   "source": [
    "def crossover(parent1: List[float], parent2: List[float]) -> (List[float], List[float]):\n",
    "    crossover_point = random.randint(0, number_of_weights - 1)\n",
    "    if random.random() < p_crossover:\n",
    "        child1 = parent1[:crossover_point] + parent2[crossover_point:]\n",
    "        child2 = parent2[:crossover_point] + parent1[crossover_point:]\n",
    "        return child1, child2\n",
    "    else:\n",
    "        return parent1, parent2"
   ],
   "metadata": {
    "collapsed": false
   }
  },
  {
   "cell_type": "code",
   "execution_count": 17,
   "outputs": [],
   "source": [
    "def selection(population: List[List[float]]) -> (List[float], List[float]):\n",
    "    return random.choices(\n",
    "        population=population,\n",
    "        weights=[fitness(individual) for individual in population],\n",
    "        k=2)"
   ],
   "metadata": {
    "collapsed": false
   }
  },
  {
   "cell_type": "code",
   "execution_count": 18,
   "outputs": [],
   "source": [
    "def mutation(individual) -> List[float]:\n",
    "    for i in range(number_of_weights):\n",
    "        if random.random() < p_mutation:\n",
    "            individual[i] = create_weight()\n",
    "    return individual"
   ],
   "metadata": {
    "collapsed": false
   }
  },
  {
   "cell_type": "code",
   "execution_count": 19,
   "outputs": [],
   "source": [
    "def run_ga(pop_size: int, gen_limit: int, p_crossover: float, p_mutation: float) -> List[float]:\n",
    "    print(\"Creating initial population...\")\n",
    "    population_main = create_population()\n",
    "    print(\"Evaluating initial population...\")\n",
    "    population_main = sorted(population_main, key=fitness, reverse=True)\n",
    "    print(\"Main population sorted.\")\n",
    "    print(f\"Best fitness, GEN INIT : {fitness(population_main[0])}\")\n",
    "\n",
    "    for generation in range(gen_limit):\n",
    "        population_next = population_main[:2]\n",
    "\n",
    "        print(\"Creating next population...\")\n",
    "        for _ in range(pop_size // 2 - 1):\n",
    "            parent1, parent2 = selection(population_main)\n",
    "            child1, child2 = crossover(parent1, parent2)\n",
    "            child1 = mutation(child1)\n",
    "            child2 = mutation(child2)\n",
    "            population_next.append(child1)\n",
    "            population_next.append(child2)\n",
    "        population_main = population_next\n",
    "        print(\"Evaluating next population...\")\n",
    "        population_main = sorted(population_main, key=fitness, reverse=True)\n",
    "        print(\"Next population sorted.\")\n",
    "        best_f = fitness(population_main[0])\n",
    "        if best_f == 500:\n",
    "            print(f\"Best fitness, GEN {generation} : {best_f}\")\n",
    "            return population_main[0]\n",
    "        else:\n",
    "            print(f\"Best fitness, GEN {generation} : {best_f}\")\n",
    "\n",
    "    population_main = sorted(population_main, key=fitness, reverse=True)\n",
    "\n",
    "    return population_main[0]"
   ],
   "metadata": {
    "collapsed": false
   }
  },
  {
   "cell_type": "code",
   "execution_count": 20,
   "outputs": [],
   "source": [
    "# Fitness is equal to total reward in our case,\n",
    "# so to determine reward we need to play the game each time\n",
    "# actions are decided by NN\n",
    "def fitness(individual: List[float]) -> float:\n",
    "    inserted = 0\n",
    "    for i, layer in enumerate(model.layers):\n",
    "        if i in [1, 3, 5]:\n",
    "            continue\n",
    "\n",
    "        layer_weights_shape = layer.get_weights()[0].shape\n",
    "        layer_biases_shape = layer.get_weights()[1].shape\n",
    "\n",
    "        # total number of weights in layer = product of all dimensions\n",
    "        total_n_weights = np.prod(layer_weights_shape)\n",
    "        total_n_biases = np.prod(layer_biases_shape)\n",
    "\n",
    "        # get weights and biases from individual\n",
    "        layer_weights = np.array(individual[inserted:inserted + total_n_weights]).reshape(layer_weights_shape)\n",
    "        layer_biases = np.array(\n",
    "            individual[inserted + total_n_weights:inserted + total_n_weights + total_n_biases]).reshape(\n",
    "            layer_biases_shape)\n",
    "\n",
    "        # set weights and biases in model\n",
    "        layer.set_weights([layer_weights, layer_biases])\n",
    "\n",
    "        # update inserted\n",
    "        inserted += total_n_weights + total_n_biases\n",
    "\n",
    "    observation = env.reset()[0]\n",
    "    done = False\n",
    "    action_count = 0\n",
    "    total_reward = 0\n",
    "    while not done and action_count < 500:\n",
    "        action = model.predict(np.array([observation]), verbose=0)\n",
    "\n",
    "        # action = number with the highest probability\n",
    "        action = np.argmax(action)\n",
    "        #print(action)\n",
    "\n",
    "        observation, reward, truncted, terminated, info = env.step(action)\n",
    "        action_count += 1\n",
    "        done = terminated or truncted\n",
    "        total_reward += reward\n",
    "\n",
    "    return total_reward"
   ],
   "metadata": {
    "collapsed": false
   }
  },
  {
   "cell_type": "code",
   "execution_count": null,
   "outputs": [
    {
     "name": "stdout",
     "output_type": "stream",
     "text": [
      "Creating initial population...\n",
      "Evaluating initial population...\n"
     ]
    }
   ],
   "source": [
    "#start learning and rendering the game\n",
    "population_size = 10\n",
    "p_crossover = 0.7\n",
    "p_mutation = 0.5\n",
    "best_weights = run_ga(pop_size=population_size, gen_limit=10,\n",
    "                      p_crossover=p_crossover, p_mutation=p_mutation)\n"
   ],
   "metadata": {
    "collapsed": false,
    "pycharm": {
     "is_executing": true
    }
   }
  },
  {
   "cell_type": "code",
   "execution_count": null,
   "outputs": [],
   "source": [
    "#show the game with best weights\n",
    "best_weights"
   ],
   "metadata": {
    "collapsed": false
   }
  },
  {
   "cell_type": "code",
   "execution_count": 18,
   "outputs": [
    {
     "name": "stdout",
     "output_type": "stream",
     "text": [
      "Total reward: 500.0\n"
     ]
    }
   ],
   "source": [
    "time.sleep(3)\n",
    "# play with the best weights\n",
    "env = gym.make('CartPole-v1', render_mode='human')\n",
    "first_layer_weights = np.array(best_weights[:4]).reshape(4, 1)\n",
    "first_layer_bias = np.array(best_weights[4:5])\n",
    "model.layers[0].set_weights([first_layer_weights, first_layer_bias])\n",
    "observation = env.reset()[0]\n",
    "done = False\n",
    "action_count = 0\n",
    "total_reward = 0\n",
    "while not done and action_count < 500:\n",
    "    action = model.predict(np.array([observation]), verbose=0)[0][0]\n",
    "    action = round(action)\n",
    "    #print('action  ', action)\n",
    "    observation, reward, truncated, terminated, info = env.step(action)\n",
    "    action_count += 1\n",
    "    done = terminated or truncated\n",
    "    total_reward += reward\n",
    "    #time.sleep(0.1)\n",
    "    env.render()\n",
    "\n",
    "print(f\"Total reward: {total_reward}\")\n",
    "env.close()\n",
    "# THIS IS THE GOAL"
   ],
   "metadata": {
    "collapsed": false
   }
  },
  {
   "cell_type": "code",
   "execution_count": 19,
   "outputs": [],
   "source": [
    "env.close()"
   ],
   "metadata": {
    "collapsed": false
   }
  }
 ],
 "metadata": {
  "kernelspec": {
   "display_name": "Python 3 (ipykernel)",
   "language": "python",
   "name": "python3"
  },
  "language_info": {
   "codemirror_mode": {
    "name": "ipython",
    "version": 3
   },
   "file_extension": ".py",
   "mimetype": "text/x-python",
   "name": "python",
   "nbconvert_exporter": "python",
   "pygments_lexer": "ipython3",
   "version": "3.9.13"
  }
 },
 "nbformat": 4,
 "nbformat_minor": 1
}
